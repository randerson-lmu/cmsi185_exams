{
 "cells": [
  {
   "cell_type": "markdown",
   "metadata": {},
   "source": [
    "# CMSI 185.06 Exam 1 Preparation Guide\n",
    "- **Exam Date**: October 13, 2020\n",
    "- **Topics Covered**: Python Basics, Control Flow, Functions, and Data Structures\n",
    "---"
   ]
  },
  {
   "cell_type": "markdown",
   "metadata": {},
   "source": [
    "## Logistics\n",
    "- The exam will be available beginning at 4pm on October 13th\n",
    "- The exam duration is 1.5 hours, you will have 24 hours to access the exam.\n",
    "- You will access the exam via the quiz module in Brightspace."
   ]
  },
  {
   "cell_type": "markdown",
   "metadata": {},
   "source": [
    "## Preparation\n",
    "- Try to answer the questions before running the cell to execute the code. You won't have an IDE during the exam, so ensure you thoroughly understand why each line of code behaves the way it does. \n",
    "- You are responsible for understanding all the concepts covered thus far in the course. \n",
    "- In addition to the examples provided below, ensure you understand all the examples provided during lecture, both in the slide and the lecture notebooks. "
   ]
  },
  {
   "cell_type": "code",
   "execution_count": null,
   "metadata": {},
   "outputs": [],
   "source": []
  }
 ],
 "metadata": {
  "kernelspec": {
   "display_name": "Python 3",
   "language": "python",
   "name": "python3"
  },
  "language_info": {
   "codemirror_mode": {
    "name": "ipython",
    "version": 3
   },
   "file_extension": ".py",
   "mimetype": "text/x-python",
   "name": "python",
   "nbconvert_exporter": "python",
   "pygments_lexer": "ipython3",
   "version": "3.8.3"
  }
 },
 "nbformat": 4,
 "nbformat_minor": 4
}
